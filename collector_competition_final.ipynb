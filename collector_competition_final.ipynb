{
 "cells": [
  {
   "cell_type": "code",
   "execution_count": 1,
   "id": "ff0e8618-4557-447e-a262-acbf0a247b16",
   "metadata": {},
   "outputs": [],
   "source": [
    "%matplotlib inline\n",
    "\n",
    "from catboost import CatBoostRegressor\n",
    "from collections import defaultdict\n",
    "from gensim.models import word2vec, KeyedVectors\n",
    "from lightgbm import LGBMRegressor\n",
    "import matplotlib.pyplot as plt\n",
    "import nltk\n",
    "from nltk.corpus import stopwords\n",
    "import numpy as np\n",
    "import pandas as pd\n",
    "import pickle\n",
    "import pymorphy2\n",
    "import re\n",
    "from scipy.stats import randint, reciprocal, expon, geom, uniform\n",
    "from sklearn.base import BaseEstimator, TransformerMixin\n",
    "from sklearn.compose import ColumnTransformer\n",
    "from sklearn.decomposition import PCA\n",
    "from sklearn.feature_extraction.text import TfidfVectorizer\n",
    "from sklearn.linear_model import SGDRegressor\n",
    "from sklearn.metrics import r2_score\n",
    "from sklearn.model_selection import cross_validate, KFold, train_test_split, RandomizedSearchCV\n",
    "from sklearn.neighbors import KNeighborsRegressor\n",
    "from sklearn.pipeline import Pipeline, make_pipeline\n",
    "from sklearn.preprocessing import OneHotEncoder, StandardScaler, MinMaxScaler\n",
    "import urlextract"
   ]
  },
  {
   "cell_type": "markdown",
   "id": "4a1afcbc-0cd4-42a5-99da-7c78cce3641f",
   "metadata": {},
   "source": [
    "## Загрузка данных, немного EDA"
   ]
  },
  {
   "cell_type": "code",
   "execution_count": 25,
   "id": "55cb0d77-5d4b-41c4-9246-38495944c5d5",
   "metadata": {},
   "outputs": [
    {
     "data": {
      "text/html": [
       "<div>\n",
       "<style scoped>\n",
       "    .dataframe tbody tr th:only-of-type {\n",
       "        vertical-align: middle;\n",
       "    }\n",
       "\n",
       "    .dataframe tbody tr th {\n",
       "        vertical-align: top;\n",
       "    }\n",
       "\n",
       "    .dataframe thead th {\n",
       "        text-align: right;\n",
       "    }\n",
       "</style>\n",
       "<table border=\"1\" class=\"dataframe\">\n",
       "  <thead>\n",
       "    <tr style=\"text-align: right;\">\n",
       "      <th></th>\n",
       "      <th>id</th>\n",
       "      <th>created</th>\n",
       "      <th>key</th>\n",
       "      <th>summary</th>\n",
       "      <th>project_id</th>\n",
       "      <th>assignee_id</th>\n",
       "      <th>creator_id</th>\n",
       "      <th>overall_worklogs</th>\n",
       "    </tr>\n",
       "  </thead>\n",
       "  <tbody>\n",
       "    <tr>\n",
       "      <th>0</th>\n",
       "      <td>819952</td>\n",
       "      <td>2019-10-01 05:57:18.000</td>\n",
       "      <td>SM-10678</td>\n",
       "      <td>UI tests commissioned by \"Dobro Keiji\".</td>\n",
       "      <td>5</td>\n",
       "      <td>93</td>\n",
       "      <td>93</td>\n",
       "      <td>1800</td>\n",
       "    </tr>\n",
       "    <tr>\n",
       "      <th>1</th>\n",
       "      <td>819949</td>\n",
       "      <td>2019-10-01 05:59:45.000</td>\n",
       "      <td>SM-10679</td>\n",
       "      <td>UI tests of the \"Profile\" section.</td>\n",
       "      <td>5</td>\n",
       "      <td>93</td>\n",
       "      <td>93</td>\n",
       "      <td>7200</td>\n",
       "    </tr>\n",
       "    <tr>\n",
       "      <th>2</th>\n",
       "      <td>819947</td>\n",
       "      <td>2019-10-01 06:00:38.000</td>\n",
       "      <td>SM-10680</td>\n",
       "      <td>UI tests of the \"Personal Account\" section.</td>\n",
       "      <td>5</td>\n",
       "      <td>93</td>\n",
       "      <td>93</td>\n",
       "      <td>14400</td>\n",
       "    </tr>\n",
       "    <tr>\n",
       "      <th>3</th>\n",
       "      <td>819943</td>\n",
       "      <td>2019-10-01 06:02:49.000</td>\n",
       "      <td>SM-10682</td>\n",
       "      <td>UI tests of the \"News\" section.</td>\n",
       "      <td>5</td>\n",
       "      <td>93</td>\n",
       "      <td>93</td>\n",
       "      <td>900</td>\n",
       "    </tr>\n",
       "    <tr>\n",
       "      <th>4</th>\n",
       "      <td>819941</td>\n",
       "      <td>2019-10-01 06:03:26.000</td>\n",
       "      <td>SM-10683</td>\n",
       "      <td>UI tests of the \"Discount and surcharge zones\"...</td>\n",
       "      <td>5</td>\n",
       "      <td>93</td>\n",
       "      <td>93</td>\n",
       "      <td>900</td>\n",
       "    </tr>\n",
       "  </tbody>\n",
       "</table>\n",
       "</div>"
      ],
      "text/plain": [
       "       id                  created       key  \\\n",
       "0  819952  2019-10-01 05:57:18.000  SM-10678   \n",
       "1  819949  2019-10-01 05:59:45.000  SM-10679   \n",
       "2  819947  2019-10-01 06:00:38.000  SM-10680   \n",
       "3  819943  2019-10-01 06:02:49.000  SM-10682   \n",
       "4  819941  2019-10-01 06:03:26.000  SM-10683   \n",
       "\n",
       "                                             summary  project_id  assignee_id  \\\n",
       "0            UI tests commissioned by \"Dobro Keiji\".           5           93   \n",
       "1                 UI tests of the \"Profile\" section.           5           93   \n",
       "2        UI tests of the \"Personal Account\" section.           5           93   \n",
       "3                    UI tests of the \"News\" section.           5           93   \n",
       "4  UI tests of the \"Discount and surcharge zones\"...           5           93   \n",
       "\n",
       "   creator_id  overall_worklogs  \n",
       "0          93              1800  \n",
       "1          93              7200  \n",
       "2          93             14400  \n",
       "3          93               900  \n",
       "4          93               900  "
      ]
     },
     "execution_count": 25,
     "metadata": {},
     "output_type": "execute_result"
    }
   ],
   "source": [
    "df_train = pd.read_csv('./data/train_dataset_train/train_issues.csv')\n",
    "df_test = pd.read_csv('./data/test_dataset_test/test_issues.csv')\n",
    "df_train.head()"
   ]
  },
  {
   "cell_type": "code",
   "execution_count": 3,
   "id": "351e0636-ed19-40a4-b384-da2b11aeb128",
   "metadata": {},
   "outputs": [],
   "source": [
    "TARGET = 'overall_worklogs'\n",
    "RANDOM_STATE = 29"
   ]
  },
  {
   "cell_type": "code",
   "execution_count": 4,
   "id": "269ce08e-66db-42f5-8cf6-58197ba39757",
   "metadata": {},
   "outputs": [
    {
     "data": {
      "text/html": [
       "<div>\n",
       "<style scoped>\n",
       "    .dataframe tbody tr th:only-of-type {\n",
       "        vertical-align: middle;\n",
       "    }\n",
       "\n",
       "    .dataframe tbody tr th {\n",
       "        vertical-align: top;\n",
       "    }\n",
       "\n",
       "    .dataframe thead th {\n",
       "        text-align: right;\n",
       "    }\n",
       "</style>\n",
       "<table border=\"1\" class=\"dataframe\">\n",
       "  <thead>\n",
       "    <tr style=\"text-align: right;\">\n",
       "      <th></th>\n",
       "      <th>comment_id</th>\n",
       "      <th>text</th>\n",
       "      <th>issue_id</th>\n",
       "      <th>author_id</th>\n",
       "    </tr>\n",
       "  </thead>\n",
       "  <tbody>\n",
       "    <tr>\n",
       "      <th>0</th>\n",
       "      <td>11779</td>\n",
       "      <td>[https://www.youtube.com/watch?v=tuhOdtsvoNY|h...</td>\n",
       "      <td>669666</td>\n",
       "      <td>1</td>\n",
       "    </tr>\n",
       "    <tr>\n",
       "      <th>1</th>\n",
       "      <td>10601</td>\n",
       "      <td>OK [~accountid:557058:3f7ab89a-8969-4547-90df-...</td>\n",
       "      <td>669670</td>\n",
       "      <td>1</td>\n",
       "    </tr>\n",
       "    <tr>\n",
       "      <th>2</th>\n",
       "      <td>76101</td>\n",
       "      <td>I encountered a problem with access to `/users...</td>\n",
       "      <td>670930</td>\n",
       "      <td>2</td>\n",
       "    </tr>\n",
       "    <tr>\n",
       "      <th>3</th>\n",
       "      <td>76102</td>\n",
       "      <td>I have learned that `users/:id/emails` endpoin...</td>\n",
       "      <td>670930</td>\n",
       "      <td>2</td>\n",
       "    </tr>\n",
       "    <tr>\n",
       "      <th>4</th>\n",
       "      <td>76213</td>\n",
       "      <td>We have decided with Andrew to set member's em...</td>\n",
       "      <td>670930</td>\n",
       "      <td>2</td>\n",
       "    </tr>\n",
       "  </tbody>\n",
       "</table>\n",
       "</div>"
      ],
      "text/plain": [
       "   comment_id                                               text  issue_id  \\\n",
       "0       11779  [https://www.youtube.com/watch?v=tuhOdtsvoNY|h...    669666   \n",
       "1       10601  OK [~accountid:557058:3f7ab89a-8969-4547-90df-...    669670   \n",
       "2       76101  I encountered a problem with access to `/users...    670930   \n",
       "3       76102  I have learned that `users/:id/emails` endpoin...    670930   \n",
       "4       76213  We have decided with Andrew to set member's em...    670930   \n",
       "\n",
       "   author_id  \n",
       "0          1  \n",
       "1          1  \n",
       "2          2  \n",
       "3          2  \n",
       "4          2  "
      ]
     },
     "execution_count": 4,
     "metadata": {},
     "output_type": "execute_result"
    }
   ],
   "source": [
    "comments_train = pd.read_csv('./data/train_dataset_train/train_comments.csv')\n",
    "comments_train.head()"
   ]
  },
  {
   "cell_type": "code",
   "execution_count": 28,
   "id": "1d6b5de0-3715-4784-b389-e5258a8a6e85",
   "metadata": {},
   "outputs": [
    {
     "data": {
      "text/html": [
       "<div>\n",
       "<style scoped>\n",
       "    .dataframe tbody tr th:only-of-type {\n",
       "        vertical-align: middle;\n",
       "    }\n",
       "\n",
       "    .dataframe tbody tr th {\n",
       "        vertical-align: top;\n",
       "    }\n",
       "\n",
       "    .dataframe thead th {\n",
       "        text-align: right;\n",
       "    }\n",
       "</style>\n",
       "<table border=\"1\" class=\"dataframe\">\n",
       "  <thead>\n",
       "    <tr style=\"text-align: right;\">\n",
       "      <th></th>\n",
       "      <th>id</th>\n",
       "      <th>active</th>\n",
       "      <th>gender</th>\n",
       "      <th>full_name</th>\n",
       "      <th>position</th>\n",
       "      <th>hiring_type</th>\n",
       "      <th>payment_type</th>\n",
       "      <th>salary_calculation_type</th>\n",
       "      <th>english_level</th>\n",
       "      <th>passport</th>\n",
       "      <th>is_nda_signed</th>\n",
       "      <th>is_labor_contract_signed</th>\n",
       "      <th>is_added_to_internal_chats</th>\n",
       "      <th>is_added_one_to_one</th>\n",
       "    </tr>\n",
       "  </thead>\n",
       "  <tbody>\n",
       "    <tr>\n",
       "      <th>0</th>\n",
       "      <td>1</td>\n",
       "      <td>1</td>\n",
       "      <td>1</td>\n",
       "      <td>David Courtney</td>\n",
       "      <td>NaN</td>\n",
       "      <td>NaN</td>\n",
       "      <td>NaN</td>\n",
       "      <td>NaN</td>\n",
       "      <td>NaN</td>\n",
       "      <td>0</td>\n",
       "      <td>0</td>\n",
       "      <td>0</td>\n",
       "      <td>0</td>\n",
       "      <td>0</td>\n",
       "    </tr>\n",
       "    <tr>\n",
       "      <th>1</th>\n",
       "      <td>2</td>\n",
       "      <td>0</td>\n",
       "      <td>1</td>\n",
       "      <td>Dan Guerra</td>\n",
       "      <td>Web-разработчик</td>\n",
       "      <td>staff</td>\n",
       "      <td>fixed</td>\n",
       "      <td>NaN</td>\n",
       "      <td>NaN</td>\n",
       "      <td>0</td>\n",
       "      <td>0</td>\n",
       "      <td>0</td>\n",
       "      <td>0</td>\n",
       "      <td>0</td>\n",
       "    </tr>\n",
       "    <tr>\n",
       "      <th>2</th>\n",
       "      <td>4</td>\n",
       "      <td>0</td>\n",
       "      <td>1</td>\n",
       "      <td>Grady Smith</td>\n",
       "      <td>Web-разработчик</td>\n",
       "      <td>staff</td>\n",
       "      <td>fixed</td>\n",
       "      <td>NaN</td>\n",
       "      <td>NaN</td>\n",
       "      <td>0</td>\n",
       "      <td>0</td>\n",
       "      <td>0</td>\n",
       "      <td>0</td>\n",
       "      <td>0</td>\n",
       "    </tr>\n",
       "    <tr>\n",
       "      <th>3</th>\n",
       "      <td>6</td>\n",
       "      <td>0</td>\n",
       "      <td>1</td>\n",
       "      <td>James Powell</td>\n",
       "      <td>Разработчик мобильных приложений</td>\n",
       "      <td>staff</td>\n",
       "      <td>fixed</td>\n",
       "      <td>NaN</td>\n",
       "      <td>NaN</td>\n",
       "      <td>0</td>\n",
       "      <td>0</td>\n",
       "      <td>0</td>\n",
       "      <td>0</td>\n",
       "      <td>0</td>\n",
       "    </tr>\n",
       "    <tr>\n",
       "      <th>4</th>\n",
       "      <td>8</td>\n",
       "      <td>1</td>\n",
       "      <td>1</td>\n",
       "      <td>John Brown</td>\n",
       "      <td>Разработчик мобильных приложений</td>\n",
       "      <td>staff</td>\n",
       "      <td>fixed</td>\n",
       "      <td>NaN</td>\n",
       "      <td>NaN</td>\n",
       "      <td>1</td>\n",
       "      <td>1</td>\n",
       "      <td>1</td>\n",
       "      <td>1</td>\n",
       "      <td>1</td>\n",
       "    </tr>\n",
       "  </tbody>\n",
       "</table>\n",
       "</div>"
      ],
      "text/plain": [
       "   id  active  gender       full_name                          position  \\\n",
       "0   1       1       1  David Courtney                               NaN   \n",
       "1   2       0       1      Dan Guerra                   Web-разработчик   \n",
       "2   4       0       1     Grady Smith                   Web-разработчик   \n",
       "3   6       0       1    James Powell  Разработчик мобильных приложений   \n",
       "4   8       1       1      John Brown  Разработчик мобильных приложений   \n",
       "\n",
       "  hiring_type payment_type salary_calculation_type english_level  passport  \\\n",
       "0         NaN          NaN                     NaN           NaN         0   \n",
       "1       staff        fixed                     NaN           NaN         0   \n",
       "2       staff        fixed                     NaN           NaN         0   \n",
       "3       staff        fixed                     NaN           NaN         0   \n",
       "4       staff        fixed                     NaN           NaN         1   \n",
       "\n",
       "   is_nda_signed  is_labor_contract_signed  is_added_to_internal_chats  \\\n",
       "0              0                         0                           0   \n",
       "1              0                         0                           0   \n",
       "2              0                         0                           0   \n",
       "3              0                         0                           0   \n",
       "4              1                         1                           1   \n",
       "\n",
       "   is_added_one_to_one  \n",
       "0                    0  \n",
       "1                    0  \n",
       "2                    0  \n",
       "3                    0  \n",
       "4                    1  "
      ]
     },
     "execution_count": 28,
     "metadata": {},
     "output_type": "execute_result"
    }
   ],
   "source": [
    "empl = pd.read_csv('./data/AltGU/employees.csv')\n",
    "empl.head()"
   ]
  },
  {
   "cell_type": "code",
   "execution_count": 5,
   "id": "fb111e69-1cba-4dd6-8d75-a0c8de8296a1",
   "metadata": {},
   "outputs": [
    {
     "data": {
      "text/plain": [
       "(9589, 8)"
      ]
     },
     "execution_count": 5,
     "metadata": {},
     "output_type": "execute_result"
    }
   ],
   "source": [
    "df_train.shape"
   ]
  },
  {
   "cell_type": "code",
   "execution_count": 6,
   "id": "47bf3d45-0d9f-4768-add0-24410fdf7a20",
   "metadata": {},
   "outputs": [
    {
     "name": "stdout",
     "output_type": "stream",
     "text": [
      "<class 'pandas.core.frame.DataFrame'>\n",
      "RangeIndex: 9589 entries, 0 to 9588\n",
      "Data columns (total 8 columns):\n",
      " #   Column            Non-Null Count  Dtype \n",
      "---  ------            --------------  ----- \n",
      " 0   id                9589 non-null   int64 \n",
      " 1   created           9589 non-null   object\n",
      " 2   key               9589 non-null   object\n",
      " 3   summary           9589 non-null   object\n",
      " 4   project_id        9589 non-null   int64 \n",
      " 5   assignee_id       9589 non-null   int64 \n",
      " 6   creator_id        9589 non-null   int64 \n",
      " 7   overall_worklogs  9589 non-null   int64 \n",
      "dtypes: int64(5), object(3)\n",
      "memory usage: 599.4+ KB\n"
     ]
    }
   ],
   "source": [
    "df_train.info()"
   ]
  },
  {
   "cell_type": "code",
   "execution_count": 7,
   "id": "40043085-362a-4d55-8f2e-21a0b29fd699",
   "metadata": {},
   "outputs": [
    {
     "data": {
      "text/html": [
       "<div>\n",
       "<style scoped>\n",
       "    .dataframe tbody tr th:only-of-type {\n",
       "        vertical-align: middle;\n",
       "    }\n",
       "\n",
       "    .dataframe tbody tr th {\n",
       "        vertical-align: top;\n",
       "    }\n",
       "\n",
       "    .dataframe thead th {\n",
       "        text-align: right;\n",
       "    }\n",
       "</style>\n",
       "<table border=\"1\" class=\"dataframe\">\n",
       "  <thead>\n",
       "    <tr style=\"text-align: right;\">\n",
       "      <th></th>\n",
       "      <th>id</th>\n",
       "      <th>project_id</th>\n",
       "      <th>assignee_id</th>\n",
       "      <th>creator_id</th>\n",
       "      <th>overall_worklogs</th>\n",
       "    </tr>\n",
       "  </thead>\n",
       "  <tbody>\n",
       "    <tr>\n",
       "      <th>count</th>\n",
       "      <td>9.589000e+03</td>\n",
       "      <td>9589.000000</td>\n",
       "      <td>9589.000000</td>\n",
       "      <td>9589.000000</td>\n",
       "      <td>9.589000e+03</td>\n",
       "    </tr>\n",
       "    <tr>\n",
       "      <th>mean</th>\n",
       "      <td>7.265522e+05</td>\n",
       "      <td>17.493482</td>\n",
       "      <td>114.838461</td>\n",
       "      <td>117.467411</td>\n",
       "      <td>1.724369e+04</td>\n",
       "    </tr>\n",
       "    <tr>\n",
       "      <th>std</th>\n",
       "      <td>3.114348e+04</td>\n",
       "      <td>10.389579</td>\n",
       "      <td>125.497901</td>\n",
       "      <td>117.299165</td>\n",
       "      <td>9.864197e+04</td>\n",
       "    </tr>\n",
       "    <tr>\n",
       "      <th>min</th>\n",
       "      <td>6.696640e+05</td>\n",
       "      <td>5.000000</td>\n",
       "      <td>1.000000</td>\n",
       "      <td>1.000000</td>\n",
       "      <td>6.000000e+01</td>\n",
       "    </tr>\n",
       "    <tr>\n",
       "      <th>25%</th>\n",
       "      <td>7.225060e+05</td>\n",
       "      <td>13.000000</td>\n",
       "      <td>10.000000</td>\n",
       "      <td>11.000000</td>\n",
       "      <td>3.000000e+03</td>\n",
       "    </tr>\n",
       "    <tr>\n",
       "      <th>50%</th>\n",
       "      <td>7.256220e+05</td>\n",
       "      <td>13.000000</td>\n",
       "      <td>82.000000</td>\n",
       "      <td>82.000000</td>\n",
       "      <td>7.200000e+03</td>\n",
       "    </tr>\n",
       "    <tr>\n",
       "      <th>75%</th>\n",
       "      <td>7.287280e+05</td>\n",
       "      <td>13.000000</td>\n",
       "      <td>197.000000</td>\n",
       "      <td>193.000000</td>\n",
       "      <td>1.470000e+04</td>\n",
       "    </tr>\n",
       "    <tr>\n",
       "      <th>max</th>\n",
       "      <td>1.056012e+06</td>\n",
       "      <td>56.000000</td>\n",
       "      <td>384.000000</td>\n",
       "      <td>384.000000</td>\n",
       "      <td>7.014000e+06</td>\n",
       "    </tr>\n",
       "  </tbody>\n",
       "</table>\n",
       "</div>"
      ],
      "text/plain": [
       "                 id   project_id  assignee_id   creator_id  overall_worklogs\n",
       "count  9.589000e+03  9589.000000  9589.000000  9589.000000      9.589000e+03\n",
       "mean   7.265522e+05    17.493482   114.838461   117.467411      1.724369e+04\n",
       "std    3.114348e+04    10.389579   125.497901   117.299165      9.864197e+04\n",
       "min    6.696640e+05     5.000000     1.000000     1.000000      6.000000e+01\n",
       "25%    7.225060e+05    13.000000    10.000000    11.000000      3.000000e+03\n",
       "50%    7.256220e+05    13.000000    82.000000    82.000000      7.200000e+03\n",
       "75%    7.287280e+05    13.000000   197.000000   193.000000      1.470000e+04\n",
       "max    1.056012e+06    56.000000   384.000000   384.000000      7.014000e+06"
      ]
     },
     "execution_count": 7,
     "metadata": {},
     "output_type": "execute_result"
    }
   ],
   "source": [
    "df_train.describe()"
   ]
  },
  {
   "cell_type": "code",
   "execution_count": 9,
   "id": "9cb7becf-3799-416b-95cc-3f723f5a6e47",
   "metadata": {},
   "outputs": [
    {
     "data": {
      "image/png": "[encoded data removed]",
      "text/plain": [
       "<Figure size 432x288 with 1 Axes>"
      ]
     },
     "metadata": {
      "needs_background": "light"
     },
     "output_type": "display_data"
    }
   ],
   "source": [
    "plt.hist(df_train[TARGET], bins=50);"
   ]
  },
  {
   "cell_type": "code",
   "execution_count": 10,
   "id": "21ec3063-1cc2-42cd-916c-3cb0b88c7492",
   "metadata": {},
   "outputs": [
    {
     "data": {
      "image/png": "[encoded data removed]",
      "text/plain": [
       "<Figure size 432x288 with 1 Axes>"
      ]
     },
     "metadata": {
      "needs_background": "light"
     },
     "output_type": "display_data"
    }
   ],
   "source": [
    "_ = plt.hist(np.log(df_train[TARGET]), bins=50)"
   ]
  },
  {
   "cell_type": "markdown",
   "id": "8ed70065-42e1-49ee-b36a-d1fcb7c1e268",
   "metadata": {},
   "source": [
    "## Задание классов обработки данных"
   ]
  },
  {
   "cell_type": "markdown",
   "id": "5e4df456-d5e2-47a2-888f-c09fea16b5a9",
   "metadata": {},
   "source": [
    "### Обработка текстов"
   ]
  },
  {
   "cell_type": "code",
   "execution_count": 11,
   "id": "f1ba5a3a-0a96-43ab-85a7-ec7a4aa600e8",
   "metadata": {},
   "outputs": [],
   "source": [
    "url_extractor = urlextract.URLExtract()"
   ]
  },
  {
   "cell_type": "code",
   "execution_count": 12,
   "id": "caec5a0e-dc95-43d4-ba86-cf660f84d320",
   "metadata": {},
   "outputs": [
    {
     "name": "stderr",
     "output_type": "stream",
     "text": [
      "[nltk_data] Downloading package stopwords to /home/shkin/nltk_data...\n",
      "[nltk_data]   Unzipping corpora/stopwords.zip.\n"
     ]
    },
    {
     "data": {
      "text/plain": [
       "True"
      ]
     },
     "execution_count": 12,
     "metadata": {},
     "output_type": "execute_result"
    }
   ],
   "source": [
    "morph = pymorphy2.MorphAnalyzer()\n",
    "nltk.download('stopwords')"
   ]
  },
  {
   "cell_type": "code",
   "execution_count": 13,
   "id": "69ea83dc-5c8d-4098-81f2-0847a70de3bc",
   "metadata": {},
   "outputs": [],
   "source": [
    "stops = set(stopwords.words('russian')) | set(stopwords.words('english'))"
   ]
  },
  {
   "cell_type": "code",
   "execution_count": 14,
   "id": "ac2118ea-b1bd-4d3e-b7c3-a8359ba906fd",
   "metadata": {},
   "outputs": [],
   "source": [
    "def text_to_wordlist(text, limit=None):\n",
    "    if isinstance(text, str):\n",
    "        text = re.sub('\\w+@\\w+\\.\\w+', ' EMAIL ', text)\n",
    "        urls = list(set(url_extractor.find_urls(text)))\n",
    "        for url in urls:\n",
    "            text.replace(url, ' URL ')\n",
    "        text_contents = re.sub('[^A-Za-zА-Яа-яёЁ]', ' ', text)\n",
    "        words = text_contents.lower().split()\n",
    "        words = [word for word in words if not word in stops]\n",
    "        words = [morph.parse(word)[0].normal_form for word in words]\n",
    "        if limit:\n",
    "            words = words[:limit]\n",
    "        return words\n",
    "    else:\n",
    "        return text"
   ]
  },
  {
   "cell_type": "markdown",
   "id": "9139a438-3829-4d64-bd14-8c76a23f15aa",
   "metadata": {},
   "source": [
    "### Векторизация текста"
   ]
  },
  {
   "cell_type": "code",
   "execution_count": 15,
   "id": "dc8e2b98-ba8a-47ae-bc09-d4031caef8ac",
   "metadata": {},
   "outputs": [],
   "source": [
    "class MeanVectorizer(BaseEstimator, TransformerMixin):\n",
    "    def __init__(self, w2v_model, pretrained=False, is_tfidf=False, limit=None):\n",
    "        self.w2v_model = w2v_model\n",
    "        self.pretrained = pretrained\n",
    "        self.pca = PCA(n_components=50, random_state=RANDOM_STATE)\n",
    "        self.dim = None\n",
    "        self.word2weight = None\n",
    "        self.is_tfidf = is_tfidf\n",
    "        self.tfidf = None\n",
    "        self.limit = limit\n",
    "        \n",
    "    def fit(self, X, y=None):\n",
    "        if self.pretrained:\n",
    "            self.w2v_dict = dict(zip(self.w2v_model.index_to_key, self.w2v_model.vectors))\n",
    "        else:\n",
    "            self.w2v_dict = dict(zip(self.w2v_model.wv.index_to_key, self.w2v_model.wv.vectors))\n",
    "        self.dim = len(next(iter(self.w2v_dict.values())))\n",
    "        \n",
    "        if self.is_tfidf:\n",
    "            self.tfidf = TfidfVectorizer(analyzer=lambda x: x)\n",
    "            self.tfidf.fit(X.apply(text_to_wordlist, limit=self.limit))\n",
    "            max_idf = max(self.tfidf.idf_)\n",
    "            self.word2weight = defaultdict(\n",
    "                lambda: max_idf,\n",
    "                [(w, self.tfidf.idf_[i]) for w, i in self.tfidf.vocabulary_.items()])\n",
    "        \n",
    "            vectors = np.array([\n",
    "                np.mean([self.w2v_dict[w] * self.word2weight[w]\n",
    "                     for w in words if w in self.w2v_dict] or\n",
    "                    [np.zeros(self.dim)], axis=0)\n",
    "                for words in X.apply(text_to_wordlist, limit=self.limit)\n",
    "            ])\n",
    "            \n",
    "        else:\n",
    "            vectors = np.array([\n",
    "                np.mean([self.w2v_dict[word] for word in words if word in self.w2v_dict]\n",
    "                    or [np.zeros(self.dim)], axis=0)\n",
    "                for words in X.apply(text_to_wordlist, limit=self.limit)\n",
    "            ])\n",
    "        \n",
    "        self.pca.fit(vectors)\n",
    "        return self\n",
    "    \n",
    "    def transform(self, X):\n",
    "        \n",
    "        if self.is_tfidf:\n",
    "            vectors = np.array([\n",
    "                np.mean([self.w2v_dict[w] * self.word2weight[w]\n",
    "                     for w in words if w in self.w2v_dict] or\n",
    "                    [np.zeros(self.dim)], axis=0)\n",
    "                for words in X.apply(text_to_wordlist, limit=self.limit)\n",
    "            ])\n",
    "        else:\n",
    "            vectors = np.array([\n",
    "                np.mean([self.w2v_dict[word] for word in words if word in self.w2v_dict]\n",
    "                        or [np.zeros(self.dim)], axis=0)\n",
    "                for words in X.apply(text_to_wordlist, limit=self.limit)\n",
    "            ])\n",
    "            \n",
    "        return self.pca.transform(vectors)"
   ]
  },
  {
   "cell_type": "markdown",
   "id": "e4562ba5-ee1a-4de0-9fbf-5f8c9c034521",
   "metadata": {},
   "source": [
    "### Выбор фичей для пайплайна"
   ]
  },
  {
   "cell_type": "code",
   "execution_count": 16,
   "id": "4d00fb58-6a2b-47cc-9aa9-ae5424fa1a8a",
   "metadata": {},
   "outputs": [],
   "source": [
    "class FeatureSelector(BaseEstimator, TransformerMixin):\n",
    "    \n",
    "    def fit(self, X, y=None):\n",
    "        return self\n",
    "    \n",
    "    def transform(self, X):\n",
    "        return pd.DataFrame(X)"
   ]
  },
  {
   "cell_type": "markdown",
   "id": "982ee192-7a9a-471d-b755-72b7a6ab1ec7",
   "metadata": {},
   "source": [
    "### Основной класс трансформации данных"
   ]
  },
  {
   "cell_type": "code",
   "execution_count": 17,
   "id": "b08d696e-fab3-436e-8e67-9ff40773374f",
   "metadata": {},
   "outputs": [],
   "source": [
    "class DataTransformer(BaseEstimator, TransformerMixin):\n",
    "    \n",
    "    def __init__(self, w2v_model_text, w2v_model_comms, date_to_int=True):\n",
    "        \n",
    "        # Работа с таблицей сотрудников\n",
    "        self.w2v_model_text = w2v_model_text\n",
    "        self.w2v_model_comms = w2v_model_comms\n",
    "        empl = pd.read_csv('./data/AltGU/employees.csv')\n",
    "        self.empl_prepd = empl.copy()\n",
    "        self.empl_prepd.drop(['full_name', 'salary_calculation_type', 'english_level'], axis=1, inplace=True)\n",
    "        self.empl_prepd['hiring_type'].fillna('unknown', inplace=True)\n",
    "        self.empl_prepd['payment_type'].fillna('unknown', inplace=True)\n",
    "        self.empl_prepd['position'].fillna('unknown', inplace=True)\n",
    "        self.date_to_int = date_to_int\n",
    "        \n",
    "        # Объединение различных формулировок должностей по группам\n",
    "        web_devs = ['Web-разработчик', 'Ведущий web-разработчик', 'Руководитель команды разработки', 'Web-разработчик ']\n",
    "        projects = ['Менеджер проектов', 'Ассистент менеджера проектов', 'офис-менеджер', 'Менеджер по тендерам', 'Ведущий менеджер проектов', 'Офис-менеджер']\n",
    "        mob_devs = ['Разработчик мобильных приложений', 'разработчик мобильных приложений', 'ML-инженер', 'Руководитель команды разработки']\n",
    "        dev_ops = ['Системный администратор (DevOps инженер)', 'DevOps инженер', 'Системный администратор', ' Системный администратор', 'Системный администратор(DevOps инженер)', 'DevOps engineer']\n",
    "        miscs = ['Копирайтер', 'Консультант', 'seo-специалист', 'помощник бухгалтера', 'Бухгалтер']\n",
    "        testers = ['Инженер-тестировщик', 'Инженер тестировщик (QA engineer)']\n",
    "        designers = ['Web дизайнер', 'графический дизайнер', 'Web-дизайнер']\n",
    "        markets = ['Delivery Manager', 'Руководитель отдела продаж', 'Руководитель отдела Маркетинга', 'Маркетолог', 'DM-политик']\n",
    "        hrs = ['Сорсер', 'Ассистент HR-менеджера', 'Рекрутер', 'IT-рекрутер', 'Менеджер по персоналу (HR менеджер)', 'Руководитель отдела по управлению персоналом', 'Специалист по КДП', 'Специалист отдела по управлению персоналом']\n",
    "        suits = ['Директор', 'Директор по стратегическому развитию', 'Руководитель отдела по управлению персоналом', 'Руководитель отдела Маркетинга', 'Руководитель отдела продаж', 'Ведущий менеджер проектов', 'Ведущий web-разработчик', 'Руководитель команды разработки', 'Директор по IT', 'Технический директор', 'Директор по качеству', 'Операционный директор']\n",
    "        unspecified = ['unknown']\n",
    "\n",
    "        # Превращение должностей в бинарные признаки\n",
    "        self.empl_prepd['web_dev'] = 0\n",
    "        self.empl_prepd['project'] = 0\n",
    "        self.empl_prepd['mob_dev'] = 0\n",
    "        self.empl_prepd['dev_ops'] = 0\n",
    "        self.empl_prepd['miscs'] = 0\n",
    "        self.empl_prepd['tester'] = 0\n",
    "        self.empl_prepd['designer'] = 0\n",
    "        self.empl_prepd['market'] = 0\n",
    "        self.empl_prepd['hr'] = 0\n",
    "        self.empl_prepd['suit'] = 0\n",
    "        self.empl_prepd['job_unspec'] = 0\n",
    "        \n",
    "        self.empl_prepd.loc[self.empl_prepd['position'].isin(web_devs), 'web_dev'] = 1\n",
    "        self.empl_prepd.loc[self.empl_prepd['position'].isin(projects), 'project'] = 1\n",
    "        self.empl_prepd.loc[self.empl_prepd['position'].isin(mob_devs), 'mob_dev'] = 1\n",
    "        self.empl_prepd.loc[self.empl_prepd['position'].isin(dev_ops), 'dev_ops'] = 1\n",
    "        self.empl_prepd.loc[self.empl_prepd['position'].isin(miscs), 'miscs'] = 1\n",
    "        self.empl_prepd.loc[self.empl_prepd['position'].isin(testers), 'tester'] = 1\n",
    "        self.empl_prepd.loc[self.empl_prepd['position'].isin(designers), 'designer'] = 1\n",
    "        self.empl_prepd.loc[self.empl_prepd['position'].isin(markets), 'market'] = 1\n",
    "        self.empl_prepd.loc[self.empl_prepd['position'].isin(hrs), 'hr'] = 1\n",
    "        self.empl_prepd.loc[self.empl_prepd['position'].isin(suits), 'suit'] = 1\n",
    "        self.empl_prepd.loc[self.empl_prepd['position'].isin(unspecified), 'job_unspec'] = 1\n",
    "        self.empl_prepd.drop('position', axis=1, inplace=True)\n",
    "    \n",
    "        # Компоновка фичей для пайплайна\n",
    "        self.cat_features = ['project_id', 'assignee_id', 'creator_id', 'hiring_type', 'payment_type', \n",
    "                             'hiring_type_y2', 'payment_type_y2']\n",
    "        self.text_feature = 'summary'\n",
    "        self.com_feature = 'text'\n",
    "        self.just_features = None\n",
    "        self.feat_pipeline = None\n",
    "\n",
    "    # Прикрепление комментариев\n",
    "    def expand_with_comments(self, X, comments):\n",
    "        comments[self.com_feature] += ' '\n",
    "        X_expanded = pd.merge(X, comments.groupby('issue_id', sort=False).agg({self.com_feature: ['sum', 'count']})\\\n",
    "                              .droplevel(0, axis=1).rename(columns={'sum': 'text', 'count': 'n_comms'}), \n",
    "                                     how='left', left_on='id', right_on='issue_id')\n",
    "        X_expanded.index = X.index\n",
    "        X_expanded[self.com_feature].fillna('0', inplace=True)\n",
    "        X_expanded['n_comms'].fillna(0, inplace=True)\n",
    "        X_expanded['n_comms'] = X_expanded['n_comms'].astype(int)\n",
    "        X_expanded['self_assigned'] = 0\n",
    "        X_expanded.loc[X_expanded['assignee_id'] == X_expanded['creator_id'], 'self_assigned'] = 1\n",
    "\n",
    "        return X_expanded\n",
    "    \n",
    "    # Прикрепление таблицы сотрудников\n",
    "    def expand_with_employees(self, X):\n",
    "        X_expanded = pd.merge(X, self.empl_prepd, how='left', left_on='assignee_id', right_on='id', suffixes=(None, '_y1'))\n",
    "        X_expanded = pd.merge(X_expanded, self.empl_prepd, how='left', left_on='creator_id', right_on='id', suffixes=(None, '_y2'))\n",
    "        X_expanded.index = X.index\n",
    "        return X_expanded\n",
    "\n",
    "    # Общая функция подготовки данных\n",
    "    def prepare_data(self, X, test):\n",
    "        comments_path = './data/test_dataset_test/test_comments.csv' if test else './data/train_dataset_train/train_comments.csv'\n",
    "        comments = pd.read_csv(comments_path)\n",
    "        X_expanded = self.expand_with_comments(X, comments=comments)\n",
    "        X_final = self.expand_with_employees(X_expanded)\n",
    "        if self.date_to_int:\n",
    "            X_final['created'] = pd.to_datetime(X_final['created']).astype(int) / 10**9\n",
    "        else:\n",
    "            X_final['created'] = pd.to_datetime(X_final['created'])\n",
    "        return X_final\n",
    "    \n",
    "    \n",
    "    # Обучение пайплайна признаков\n",
    "    def fit(self, X, y=None):\n",
    "        \n",
    "        X_final = self.prepare_data(X, test=False)\n",
    "        self.just_features = list(set(X_final.columns) - set(X.columns) - set(self.cat_features) - {'id_y1', 'id_y2', 'text'})\n",
    "        self.just_features += ['created']\n",
    "        \n",
    "        self.feat_pipeline = ColumnTransformer([\n",
    "            ('cat', OneHotEncoder(handle_unknown='ignore'), self.cat_features),\n",
    "            ('text', MeanVectorizer(self.w2v_model_text, pretrained=True, is_tfidf=True), self.text_feature),\n",
    "            ('comms', MeanVectorizer(self.w2v_model_comms, pretrained=False), self.com_feature),\n",
    "            ('just_select', FeatureSelector(), sorted(self.just_features))\n",
    "        ])\n",
    "        \n",
    "        self.feat_pipeline.fit(X_final)\n",
    "        \n",
    "        return self\n",
    "    \n",
    "    # Трансформация данных, возвращение датафрейма с названиями колонок\n",
    "    def transform(self, X, test=False):\n",
    "        \n",
    "        X_prepared = self.prepare_data(X, test=test)\n",
    "        X_transformed = self.feat_pipeline.transform(X_prepared)\n",
    "        \n",
    "        feats1 = list(self.feat_pipeline.transformers_[0][1].get_feature_names_out(self.cat_features))\n",
    "        feats2 = [f'text_value_{i}' for i in range(1, min(self.feat_pipeline.transformers_[1][1].w2v_model.vector_size, 50) + 1)]\n",
    "        feats3 = [f'comms_value_{i}' for i in range(1, min(self.feat_pipeline.transformers_[2][1].w2v_model.vector_size, 50) + 1)]\n",
    "        feats4 = sorted(list(self.just_features))\n",
    "        \n",
    "        return pd.DataFrame(X_transformed, columns=feats1 + feats2 + feats3 + feats4, index=X.index)"
   ]
  },
  {
   "cell_type": "markdown",
   "id": "1e3a0dfd-f840-452e-8fdf-031d035047b1",
   "metadata": {},
   "source": [
    "## Обучение моделей"
   ]
  },
  {
   "cell_type": "markdown",
   "id": "d16f6f29-597e-4a03-8b2f-f4e348157a94",
   "metadata": {},
   "source": [
    "### Использование предобученной модели word2vec на текстах задач"
   ]
  },
  {
   "cell_type": "markdown",
   "id": "7c32daf6-801a-41c7-a5ec-c201ed7c51e9",
   "metadata": {},
   "source": [
    "Ссылка на скачивание модели:  \n",
    "https://drive.google.com/file/d/0B7XkCwpI5KDYNlNUTTlSS21pQmM/edit?usp=sharing"
   ]
  },
  {
   "cell_type": "code",
   "execution_count": 18,
   "id": "2730067c-934a-47f2-9b58-66bbcf70b4d7",
   "metadata": {},
   "outputs": [],
   "source": [
    "w2v_model_text = KeyedVectors.load_word2vec_format('GoogleNews-vectors-negative300.bin.gz', binary=True)"
   ]
  },
  {
   "cell_type": "markdown",
   "id": "d514744a-bf29-4645-b060-601c118ae243",
   "metadata": {},
   "source": [
    "### Обучение другой модели word2vec на текстах комментариев"
   ]
  },
  {
   "cell_type": "markdown",
   "id": "d0f39eb7-fd93-45ee-9e5f-0b65b107a75a",
   "metadata": {},
   "source": [
    "Для точного воспроизведения полученных мной результатов необходимо  \n",
    "до запуска ноутбука выставить значение переменной окружения PYTHONHASHSEED  \n",
    "в значение 29. Иначе модель word2vec обучится по-другому!"
   ]
  },
  {
   "cell_type": "code",
   "execution_count": 19,
   "id": "298c7e2c-1c4a-4f6c-806e-da06250bb61e",
   "metadata": {},
   "outputs": [],
   "source": [
    "comments_test = pd.read_csv('./data/test_dataset_test/test_comments.csv')"
   ]
  },
  {
   "cell_type": "code",
   "execution_count": 21,
   "id": "21360420-1c86-4c47-bdcd-b27253761d1b",
   "metadata": {},
   "outputs": [],
   "source": [
    "w2v_model_comms = word2vec.Word2Vec(pd.concat((comments_train['text'], comments_test['text']), axis=0).apply(text_to_wordlist), window=2, seed=RANDOM_STATE, workers=1, vector_size=200)"
   ]
  },
  {
   "cell_type": "markdown",
   "id": "75e6950e-f9d8-4f6e-ac14-ba17e617ae5d",
   "metadata": {},
   "source": [
    "### Трансформируем данные, запускаем обучение"
   ]
  },
  {
   "cell_type": "code",
   "execution_count": 22,
   "id": "a25372cb-2105-4fd9-8fd3-9b79d47bfddb",
   "metadata": {},
   "outputs": [],
   "source": [
    "transformer = DataTransformer(w2v_model_text, w2v_model_comms, date_to_int=False)"
   ]
  },
  {
   "cell_type": "code",
   "execution_count": 23,
   "id": "c96a7353-20b7-41c2-b8e1-5ec4db5973c4",
   "metadata": {},
   "outputs": [],
   "source": [
    "df_train_transformed = transformer.fit_transform(df_train)"
   ]
  },
  {
   "cell_type": "code",
   "execution_count": 26,
   "id": "0e65f49c-76b6-4aea-84e5-13d6baabf9bf",
   "metadata": {},
   "outputs": [],
   "source": [
    "df_test_transformed = transformer.transform(df_test, test=True)"
   ]
  },
  {
   "cell_type": "markdown",
   "id": "f0c070fc-c886-4146-b533-28f1c82c20e1",
   "metadata": {},
   "source": [
    "### CatBoost"
   ]
  },
  {
   "cell_type": "code",
   "execution_count": null,
   "id": "122950a9-ffa2-4c92-a58b-6af896aa834c",
   "metadata": {},
   "outputs": [],
   "source": [
    "param_distribs = {\n",
    "        'iterations': randint(low=10, high=800),\n",
    "        'learning_rate': reciprocal(1e-5, 1.0),\n",
    "        'depth': [3, 4, 5, 6],\n",
    "        'l2_leaf_reg': randint(low=1, high=10),\n",
    "        'grow_policy': ['SymmetricTree', 'Lossguide', 'Depthwise'],\n",
    "        'min_data_in_leaf': geom(0.1)\n",
    "    }\n",
    "\n",
    "for seed in range(10):\n",
    "\n",
    "    split = KFold(n_splits=5, shuffle=True, random_state=seed)\n",
    "\n",
    "    model = RandomizedSearchCV(CatBoostRegressor(random_state=seed, verbose=0), \n",
    "                               param_distributions=param_distribs, refit=False,\n",
    "                               n_iter=50, cv=split, scoring='r2', random_state=seed, n_jobs=4)\n",
    "    model.fit(df_train_transformed, df_train[TARGET])\n",
    "    \n",
    "    idx = np.argmax(model.cv_results_['mean_test_score'] - model.cv_results_['std_test_score'])\n",
    "    best_params = model.cv_results_['params'][idx]\n",
    "    \n",
    "    model = CatBoostRegressor(random_state=seed, **best_params)\n",
    "    model.fit(df_train_transformed, df_train[TARGET], verbose=0)\n",
    "\n",
    "    y_pred = model.predict(df_test_transformed)\n",
    "    submit = pd.read_csv('./data/AltGU/sample_solution.csv')\n",
    "    submit[TARGET] = y_pred\n",
    "    submit.to_csv(f'./models/cb_regressor/submit_{seed+1}.csv', index=False)\n",
    "    with open(f'./models/cb_regressor/cb_model_{seed+1}.pkl', 'wb') as f:\n",
    "        pickle.dump(model, f)"
   ]
  },
  {
   "cell_type": "code",
   "execution_count": 6,
   "id": "9052d4bb-8519-4c8c-9351-b54c6b81a402",
   "metadata": {},
   "outputs": [],
   "source": [
    "for i in range(1, 11):\n",
    "    exec(f'y_pred_{i} = pd.read_csv(\"./models/cb_regressor/submit_{i}.csv\")[TARGET].values')"
   ]
  },
  {
   "cell_type": "code",
   "execution_count": 7,
   "id": "f4cea5aa-0e93-40ef-a3e7-788dc3bdb31b",
   "metadata": {},
   "outputs": [],
   "source": [
    "y_preds_cb = np.mean([y_pred_1, y_pred_2, y_pred_3, y_pred_4, y_pred_5, \n",
    "                   y_pred_6, y_pred_7, y_pred_8, y_pred_9, y_pred_10], axis=0)"
   ]
  },
  {
   "cell_type": "code",
   "execution_count": 56,
   "id": "9059fbb5-fefb-46fc-821d-7ace72a28e73",
   "metadata": {},
   "outputs": [],
   "source": [
    "pd.Series(y_preds_cb).to_csv('./models/cb_regressor/cb_submit_mean.csv', index=False)"
   ]
  },
  {
   "cell_type": "markdown",
   "id": "311997a9-4276-47d7-a95f-93c7f92906d1",
   "metadata": {},
   "source": [
    "### CatBoost log"
   ]
  },
  {
   "cell_type": "code",
   "execution_count": null,
   "id": "52a6e214-2e28-4272-921f-ab4a8fc02c61",
   "metadata": {},
   "outputs": [],
   "source": [
    "param_distribs = {\n",
    "        'iterations': randint(low=10, high=800),\n",
    "        'learning_rate': reciprocal(1e-5, 1.0),\n",
    "        'depth': [3, 4, 5, 6],\n",
    "        'l2_leaf_reg': randint(low=1, high=10),\n",
    "        'grow_policy': ['SymmetricTree', 'Lossguide', 'Depthwise'],\n",
    "        'min_data_in_leaf': geom(0.1)\n",
    "    }\n",
    "\n",
    "for seed in range(10):\n",
    "\n",
    "    split = KFold(n_splits=5, shuffle=True, random_state=seed)\n",
    "\n",
    "    model = RandomizedSearchCV(CatBoostRegressor(random_state=seed, verbose=0), \n",
    "                               param_distributions=param_distribs, refit=False,\n",
    "                               n_iter=50, cv=split, scoring='r2', random_state=seed, n_jobs=4)\n",
    "    model.fit(df_train_transformed, np.log(df_train[TARGET]))\n",
    "    \n",
    "    idx = np.argmax(model.cv_results_['mean_test_score'] - model.cv_results_['std_test_score'])\n",
    "    best_params = model.cv_results_['params'][idx]\n",
    "    \n",
    "    model = CatBoostRegressor(random_state=seed, **best_params)\n",
    "    model.fit(df_train_transformed, np.log(df_train[TARGET]), verbose=0)\n",
    "\n",
    "    y_pred = np.exp(model.predict(df_test_transformed))\n",
    "    submit = pd.read_csv('./data/AltGU/sample_solution.csv')\n",
    "    submit[TARGET] = y_pred\n",
    "    submit.to_csv(f'./models/cb_log_regressor/cb_l_submit_{seed+1}.csv', index=False)\n",
    "    with open(f'./models/cb_log_regressor/cb_l_model_{seed+1}.pkl', 'wb') as f:\n",
    "        pickle.dump(model, f)"
   ]
  },
  {
   "cell_type": "code",
   "execution_count": 6,
   "id": "449a28fa-ca55-4bb5-b643-a554cf0e4b34",
   "metadata": {},
   "outputs": [],
   "source": [
    "for i in range(1, 11):\n",
    "    exec(f'y_pred_{i} = pd.read_csv(\"./models/cb_log_regressor/cb_l_submit_{i}.csv\")[TARGET].values')"
   ]
  },
  {
   "cell_type": "code",
   "execution_count": 7,
   "id": "f46d9742-cfb2-4510-9e71-1d0eb7bad6d8",
   "metadata": {},
   "outputs": [],
   "source": [
    "y_preds_cb_log = np.mean([y_pred_1, y_pred_2, y_pred_3, y_pred_4, y_pred_5, \n",
    "                   y_pred_6, y_pred_7, y_pred_8, y_pred_9, y_pred_10], axis=0)"
   ]
  },
  {
   "cell_type": "code",
   "execution_count": 56,
   "id": "424d080d-e1cc-4570-9e51-9c5a738d9964",
   "metadata": {},
   "outputs": [],
   "source": [
    "pd.Series(y_preds_cb_log).to_csv('./models/cb_log_regressor/cb_l_submit_mean.csv', index=False)"
   ]
  },
  {
   "cell_type": "markdown",
   "id": "bf5016ed-d688-4966-9a5a-d126067b6838",
   "metadata": {},
   "source": [
    "### LightGBM log"
   ]
  },
  {
   "cell_type": "code",
   "execution_count": 25,
   "id": "9d908d8d-287e-46b0-9287-1babce9e4e36",
   "metadata": {},
   "outputs": [],
   "source": [
    "transformer_2 = DataTransformer(w2v_model_text, w2v_model_comms, date_to_int=True)"
   ]
  },
  {
   "cell_type": "code",
   "execution_count": 26,
   "id": "8bf518c0-813d-4448-b369-95c0f0152987",
   "metadata": {},
   "outputs": [],
   "source": [
    "df_train_transformed = transformer_2.fit_transform(df_train)"
   ]
  },
  {
   "cell_type": "code",
   "execution_count": 27,
   "id": "2c66d469-d896-4009-8452-3ad20853af43",
   "metadata": {},
   "outputs": [],
   "source": [
    "df_test_transformed = transformer_2.transform(df_test, test=True)"
   ]
  },
  {
   "cell_type": "code",
   "execution_count": null,
   "id": "cc7823b5-117c-4d12-8071-8d700507c4d8",
   "metadata": {},
   "outputs": [],
   "source": [
    "param_distribs = {\n",
    "        'n_estimators': randint(low=10, high=800),\n",
    "        'learning_rate': reciprocal(1e-4, 1.0),\n",
    "        'num_leaves': randint(low=10, high=50),\n",
    "        'reg_lambda': expon(scale=1.0),\n",
    "        'reg_alpha': expon(scale=1.0),\n",
    "        'min_child_samples': geom(0.05)\n",
    "    }\n",
    "\n",
    "for seed in range(10):\n",
    "\n",
    "    split = KFold(n_splits=5, shuffle=True, random_state=seed)\n",
    "\n",
    "    model = RandomizedSearchCV(LGBMRegressor(random_state=seed), \n",
    "                               param_distributions=param_distribs, refit=False,\n",
    "                               n_iter=50, cv=split, scoring='r2', random_state=seed, n_jobs=4)\n",
    "    model.fit(df_train_transformed, np.log(df_train[TARGET]))\n",
    "    \n",
    "    idx = np.argmax(model.cv_results_['mean_test_score'] - model.cv_results_['std_test_score'])\n",
    "    best_params = model.cv_results_['params'][idx]\n",
    "    \n",
    "    model = LGBMRegressor(random_state=seed, **best_params)\n",
    "    model.fit(df_train_transformed, np.log(df_train[TARGET]))\n",
    "\n",
    "    y_pred = np.exp(model.predict(df_test_transformed))\n",
    "    submit = pd.read_csv('./data/AltGU/sample_solution.csv')\n",
    "    submit[TARGET] = y_pred\n",
    "    submit.to_csv(f'./models/lgbm_log/lgbm_log_submit_{seed+1}.csv', index=False)\n",
    "    with open(f'./models/lgbm_log/lgbm_log_model_{seed+1}.pkl', 'wb') as f:\n",
    "        pickle.dump(model, f)"
   ]
  },
  {
   "cell_type": "code",
   "execution_count": 8,
   "id": "3ee796e4-4bcf-47e0-b788-a288c507ff88",
   "metadata": {},
   "outputs": [],
   "source": [
    "for i in range(1, 11):\n",
    "    exec(f'y_pred_{i} = pd.read_csv(\"./models/lgbm_log/lgbm_log_submit_{i}.csv\")[TARGET].values')"
   ]
  },
  {
   "cell_type": "code",
   "execution_count": 9,
   "id": "a76d6f9a-206b-4aa0-a8f8-9beb0720ade6",
   "metadata": {},
   "outputs": [],
   "source": [
    "y_preds_lgbm_log = np.mean([y_pred_1, y_pred_2, y_pred_3, y_pred_4, y_pred_5, \n",
    "                   y_pred_6, y_pred_7, y_pred_8, y_pred_9, y_pred_10], axis=0)"
   ]
  },
  {
   "cell_type": "code",
   "execution_count": 43,
   "id": "ed5ff9c8-8bc4-4beb-84c2-c04f4af35155",
   "metadata": {},
   "outputs": [],
   "source": [
    "pd.Series(y_preds_lgbm_log).to_csv('./models/lgbm_log/lgbm_log_submit_mean.csv', index=False)"
   ]
  },
  {
   "cell_type": "code",
   "execution_count": 10,
   "id": "7b3ead64-30d8-468a-9787-9140a849e616",
   "metadata": {},
   "outputs": [],
   "source": [
    "y_preds_final = np.mean([y_preds_lgbm_log, y_preds_cb, y_preds_cb_log], axis=0)"
   ]
  },
  {
   "cell_type": "markdown",
   "id": "9b33c3d6-55c3-4a10-9f1e-b953422eb0dc",
   "metadata": {},
   "source": [
    "## Test submit"
   ]
  },
  {
   "cell_type": "code",
   "execution_count": 12,
   "id": "e2dadaaa-0f89-471d-b0bd-009c209b3d34",
   "metadata": {},
   "outputs": [],
   "source": [
    "submit = pd.read_csv('./data/AltGU/sample_solution.csv')"
   ]
  },
  {
   "cell_type": "code",
   "execution_count": 13,
   "id": "8d150fbc-542a-4922-9e4a-28c9b1049f3a",
   "metadata": {},
   "outputs": [],
   "source": [
    "submit[TARGET] = y_preds_final"
   ]
  },
  {
   "cell_type": "code",
   "execution_count": 14,
   "id": "0a8ee755-50a3-4022-96cd-b1250cb17667",
   "metadata": {},
   "outputs": [],
   "source": [
    "submit.to_csv('./submission_final.csv', index=False)"
   ]
  }
 ],
 "metadata": {
  "kernelspec": {
   "display_name": "Python 3 (ipykernel)",
   "language": "python",
   "name": "python3"
  },
  "language_info": {
   "codemirror_mode": {
    "name": "ipython",
    "version": 3
   },
   "file_extension": ".py",
   "mimetype": "text/x-python",
   "name": "python",
   "nbconvert_exporter": "python",
   "pygments_lexer": "ipython3",
   "version": "3.9.12"
  }
 },
 "nbformat": 4,
 "nbformat_minor": 5
}
